{
 "cells": [
  {
   "cell_type": "markdown",
   "metadata": {
    "collapsed": true
   },
   "source": [
    "# My Jupyter Notebook on IBM Watson Studio"
   ]
  },
  {
   "cell_type": "markdown",
   "metadata": {},
   "source": [
    "**Agbetoye Oluwatoyin**\n",
    "\n",
    "I want to be a Data Scientist."
   ]
  },
  {
   "cell_type": "markdown",
   "metadata": {},
   "source": [
    "*I am interested in Data Science because I fell in love with Python Programming and I thought of things I could do with Python.*\n",
    "\n",
    "*I discovered Data Science and I have since decided to have a career in the field.*"
   ]
  },
  {
   "cell_type": "markdown",
   "metadata": {},
   "source": [
    "### The code below prints out the statement 'I love Data Science'"
   ]
  },
  {
   "cell_type": "code",
   "execution_count": 2,
   "metadata": {},
   "outputs": [
    {
     "name": "stdout",
     "output_type": "stream",
     "text": [
      "I love Data Science\n"
     ]
    }
   ],
   "source": [
    "print('I love Data Science')"
   ]
  },
  {
   "cell_type": "markdown",
   "metadata": {},
   "source": [
    "The V's of Data Science:\n",
    "\n",
    "- Velocity\n",
    "- Volume\n",
    "- Variety\n",
    "- Veracity\n",
    "- Value\n",
    "\n",
    "    Popular R libraries for ~~Data Science~~\n",
    "\n",
    "| Libraries     | Uses  |\n",
    "| ------------- |:-------------:\n",
    "| dplyr  | Data Manipulation |\n",
    "|stringr | String Manipulation|\n",
    "| ggplot | Data Visualization |\n",
    "|caret| Machine Learning"
   ]
  }
 ],
 "metadata": {
  "kernelspec": {
   "display_name": "Python 3.10",
   "language": "python",
   "name": "python3"
  },
  "language_info": {
   "codemirror_mode": {
    "name": "ipython",
    "version": 3
   },
   "file_extension": ".py",
   "mimetype": "text/x-python",
   "name": "python",
   "nbconvert_exporter": "python",
   "pygments_lexer": "ipython3",
   "version": "3.10.6"
  }
 },
 "nbformat": 4,
 "nbformat_minor": 1
}
